{
 "cells": [
  {
   "cell_type": "markdown",
   "id": "1dd5b841",
   "metadata": {},
   "source": [
    "# Acoustic Processing\n",
    "Acoustic signals contain a lot of information. A great example of an acoustic signal is speech which is our primary form of communication. The speech signal contains information on the message to be conveyed, the speaker, their emotional state among other things.\n",
    "\n",
    "Despite the fact that speech applications are probably the most common examples of acoustic processing. Other examples include:\n",
    "1. Fault diagnosis in machinery\n",
    "1. Noise pollution monitoring \n",
    "\n",
    "\n",
    "## The Acoustic Signal\n",
    "An acoustic signal consists of variation of air pressure. This pressure variation is picked up by a microphone and transformed into a voltage signal which is then sampled at an appropriate rate to produce a digital signal.\n",
    "\n",
    "We will work exclusively with digital signals which are a sequence of sample values. As an example let us visualise and listen to a few examples.\n"
   ]
  },
  {
   "cell_type": "code",
   "execution_count": null,
   "id": "6eb2b853",
   "metadata": {},
   "outputs": [],
   "source": []
  }
 ],
 "metadata": {
  "kernelspec": {
   "display_name": "Python 3 (ipykernel)",
   "language": "python",
   "name": "python3"
  },
  "language_info": {
   "codemirror_mode": {
    "name": "ipython",
    "version": 3
   },
   "file_extension": ".py",
   "mimetype": "text/x-python",
   "name": "python",
   "nbconvert_exporter": "python",
   "pygments_lexer": "ipython3",
   "version": "3.7.6"
  }
 },
 "nbformat": 4,
 "nbformat_minor": 5
}
